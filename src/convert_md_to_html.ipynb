{
 "cells": [
  {
   "cell_type": "code",
   "execution_count": null,
   "metadata": {},
   "outputs": [],
   "source": [
    "import glob\n",
    "import pypandoc"
   ]
  },
  {
   "cell_type": "code",
   "execution_count": null,
   "metadata": {},
   "outputs": [],
   "source": [
    "MD_EXTENSION = \".md\"\n",
    "HTML_EXTENSION = \".html\"\n",
    "PDF_EXTENSION = \".pdf\""
   ]
  },
  {
   "cell_type": "code",
   "execution_count": null,
   "metadata": {},
   "outputs": [],
   "source": [
    "md_files = glob.iglob(\"../**/[!README]*\" + MD_EXTENSION, recursive=True)"
   ]
  },
  {
   "cell_type": "code",
   "execution_count": null,
   "metadata": {},
   "outputs": [],
   "source": [
    "pandoc_filters = [\"pandoc-sidenote\"]\n",
    "\n",
    "# See https://pandoc.org/MANUAL.html#options\n",
    "pandoc_args = [\n",
    "    \"--katex\",\n",
    "    \"--section-divs\",\n",
    "    \"--toc\",\n",
    "    # \"--css=../../src/styles/pandoc.css\",\n",
    "    \"--css=../../src/styles/tufte.css\",\n",
    "    \"--css=../../src/styles/pandoc2.css\",\n",
    "    \"--css=../../src/styles/pandoc-solarized.css\",\n",
    "    \"--css=../../src/styles/tufte-extra.css\",\n",
    "    # \"--template=templates/pandoc-template.html\",\n",
    "    \"--template=templates/tufte.html5\",\n",
    "    \"--extract-media=media\",\n",
    "]\n",
    "\n",
    "# See: https://pandoc.org/MANUAL.html#extensions\n",
    "pandoc_format = (\n",
    "    \"markdown\"\n",
    "    + \"+smart\"\n",
    "    + \"+pandoc_title_block\"\n",
    "    + \"+fenced_divs\"\n",
    "    + \"+line_blocks\"\n",
    "    + \"+fenced_code_blocks\"\n",
    "    + \"+backtick_code_blocks\"\n",
    "    + \"+fenced_code_attributes\"\n",
    "    + \"+inline_code_attributes\"\n",
    "    + \"+link_attributes\"\n",
    "    + \"+startnum\"\n",
    "    + \"+fancy_lists\"\n",
    "    + \"+task_lists\"\n",
    "    + \"+definition_lists\"\n",
    "    + \"+example_lists\"\n",
    "    + \"+table_captions\"\n",
    "    + \"+simple_tables\"\n",
    "    + \"+multiline_tables\"\n",
    "    + \"+grid_tables\"\n",
    "    + \"+pipe_tables\"\n",
    "    + \"+emoji\"\n",
    "    + \"+intraword_underscores\"\n",
    "    + \"+strikeout\"\n",
    "    + \"+superscript\"\n",
    "    + \"+subscript\"\n",
    "    + \"+tex_math_dollars\"\n",
    "    + \"+implicit_figures\"\n",
    "    + \"+footnotes\"\n",
    "    + \"+inline_notes\"\n",
    ")"
   ]
  },
  {
   "cell_type": "code",
   "execution_count": null,
   "metadata": {},
   "outputs": [],
   "source": [
    "for md_file in md_files:\n",
    "    html_file = md_file[: -len(MD_EXTENSION)] + HTML_EXTENSION\n",
    "    pypandoc.convert_file(\n",
    "        md_file,\n",
    "        extra_args=pandoc_args,\n",
    "        format=pandoc_format,\n",
    "        filters=pandoc_filters,\n",
    "        to=\"html5+smart\",\n",
    "        outputfile=html_file,\n",
    "    )"
   ]
  },
  {
   "cell_type": "code",
   "execution_count": null,
   "metadata": {},
   "outputs": [],
   "source": [
    "# delete generated html files. for debugging\n",
    "if False:\n",
    "    for html_file in glob.iglob(\"../**/*\" + HTML_EXTENSION, recursive=True):\n",
    "        os.remove(html_file)"
   ]
  },
  {
   "cell_type": "code",
   "execution_count": null,
   "metadata": {},
   "outputs": [],
   "source": [
    "html_files = glob.iglob(\"../**/*\" + HTML_EXTENSION, recursive=True)"
   ]
  },
  {
   "cell_type": "code",
   "execution_count": null,
   "metadata": {},
   "outputs": [],
   "source": [
    "for html_file in html_files:\n",
    "    pdf_file = html_file[: -len(HTML_EXTENSION)] + PDF_EXTENSION\n",
    "    pypandoc.convert_file(\n",
    "        html_file,\n",
    "        extra_args=[\"--pdf-engine=xelatex\", \"--variable\", \"lang=en\"],\n",
    "        to=\"latex\",\n",
    "        outputfile=pdf_file,\n",
    "    )"
   ]
  },
  {
   "cell_type": "code",
   "execution_count": null,
   "metadata": {},
   "outputs": [],
   "source": []
  }
 ],
 "metadata": {
  "interpreter": {
   "hash": "31a7b1cb5f073f7a7d37b3db504c6954ce2b88e0f82e412b65ad0b5f2dd17394"
  },
  "kernelspec": {
   "display_name": "Python 3.10.2 ('python310')",
   "language": "python",
   "name": "python3"
  },
  "language_info": {
   "codemirror_mode": {
    "name": "ipython",
    "version": 3
   },
   "file_extension": ".py",
   "mimetype": "text/x-python",
   "name": "python",
   "nbconvert_exporter": "python",
   "pygments_lexer": "ipython3",
   "version": "3.10.2"
  }
 },
 "nbformat": 4,
 "nbformat_minor": 2
}
