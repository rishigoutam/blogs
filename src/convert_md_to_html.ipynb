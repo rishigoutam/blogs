{
 "cells": [
  {
   "cell_type": "code",
   "execution_count": null,
   "metadata": {},
   "outputs": [],
   "source": [
    "import glob\n",
    "import os\n",
    "import pypandoc"
   ]
  },
  {
   "cell_type": "code",
   "execution_count": null,
   "metadata": {},
   "outputs": [],
   "source": [
    "MD_EXTENSION = \".md\"\n",
    "HTML_EXTENSION = \".html\""
   ]
  },
  {
   "cell_type": "code",
   "execution_count": null,
   "metadata": {},
   "outputs": [],
   "source": [
    "md_files = glob.iglob(\"../**/[!README]*\" + MD_EXTENSION, recursive=True)"
   ]
  },
  {
   "cell_type": "code",
   "execution_count": null,
   "metadata": {},
   "outputs": [],
   "source": [
    "pandoc_args = [\n",
    "    \"--css=../src/pandoc.css\",\n",
    "    \"--template=templates/pandoc-template.html\",\n",
    "    \"--extract-media=media\",\n",
    "]\n",
    "\n",
    "pandoc_format = (\n",
    "    \"markdown\"\n",
    "    + \"+fenced_code_blocks\"\n",
    "    + \"+backtick_code_blocks\"\n",
    "    + \"+fancy_lists\"\n",
    "    + \"+startnum\"\n",
    "    + \"+table_captions\"\n",
    "    + \"+simple_tables\"\n",
    "    + \"+multiline_tables\"\n",
    "    + \"+grid_tables\"\n",
    "    + \"+pipe_tables\"\n",
    "    + \"+pandoc_title_block\"\n",
    "    + \"+intraword_underscores\"\n",
    "    + \"+strikeout\"\n",
    "    + \"+superscript\"\n",
    "    + \"+subscript\"\n",
    "    + \"+inline_code_attributes\"\n",
    "    + \"+tex_math_dollars\"\n",
    "    + \"+link_attributes\"\n",
    "    + \"+implicit_figures\"\n",
    "    + \"+footnotes\"\n",
    "    + \"+inline_notes\"\n",
    "    + \"+emoji\"\n",
    "    + \"+task_lists\"\n",
    "    + \"+intraword_underscores\"\n",
    "    + \"+definition_lists\"\n",
    "    + \"+example_lists\"\n",
    ")"
   ]
  },
  {
   "cell_type": "code",
   "execution_count": null,
   "metadata": {},
   "outputs": [],
   "source": [
    "for md_file in md_files:\n",
    "    html_file = md_file[:-3] + HTML_EXTENSION\n",
    "    pypandoc.convert_file(\n",
    "        md_file,\n",
    "        extra_args=pandoc_args,\n",
    "        format=pandoc_format,\n",
    "        to=\"html5\",\n",
    "        outputfile=html_file,\n",
    "    )"
   ]
  },
  {
   "cell_type": "code",
   "execution_count": null,
   "metadata": {},
   "outputs": [],
   "source": [
    "# delete generated html files. for debugging\n",
    "if False:\n",
    "    for html_file in glob.iglob(\"../**/*\" + HTML_EXTENSION, recursive=True):\n",
    "        os.remove(html_file)"
   ]
  },
  {
   "cell_type": "code",
   "execution_count": null,
   "metadata": {},
   "outputs": [],
   "source": []
  }
 ],
 "metadata": {
  "interpreter": {
   "hash": "31a7b1cb5f073f7a7d37b3db504c6954ce2b88e0f82e412b65ad0b5f2dd17394"
  },
  "kernelspec": {
   "display_name": "Python 3.10.2 ('python310')",
   "language": "python",
   "name": "python3"
  },
  "language_info": {
   "codemirror_mode": {
    "name": "ipython",
    "version": 3
   },
   "file_extension": ".py",
   "mimetype": "text/x-python",
   "name": "python",
   "nbconvert_exporter": "python",
   "pygments_lexer": "ipython3",
   "version": "3.10.2"
  }
 },
 "nbformat": 4,
 "nbformat_minor": 2
}
