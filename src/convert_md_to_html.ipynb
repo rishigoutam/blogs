{
 "cells": [
  {
   "cell_type": "code",
   "execution_count": null,
   "metadata": {},
   "outputs": [],
   "source": [
    "import glob\n",
    "import pypandoc\n",
    "import logging"
   ]
  },
  {
   "cell_type": "code",
   "execution_count": null,
   "metadata": {},
   "outputs": [],
   "source": [
    "MD_EXTENSION = \".md\"\n",
    "HTML_EXTENSION = \".html\"\n",
    "PDF_EXTENSION = \".pdf\"\n",
    "GLOB_MD_DIR = \"../\"\n",
    "LUA_FILTERS_DIR = \"/Users/rishi/lua-filters/\"\n",
    "SPELLCHECK_FILTER = LUA_FILTERS_DIR + \"spellcheck/spellcheck.lua\"\n",
    "WORDCOUNT_FILTER = LUA_FILTERS_DIR + \"wordcount/wordcount.lua\"\n",
    "\n",
    "# Suppress pandoc logs\n",
    "# logging.getLogger('pypandoc').addHandler(logging.NullHandler())"
   ]
  },
  {
   "cell_type": "code",
   "execution_count": null,
   "metadata": {
    "pycharm": {
     "name": "#%%\n"
    }
   },
   "outputs": [],
   "source": [
    "def convert_md_to_html(\n",
    "    md_dir=GLOB_MD_DIR, add_toc=False, sidenote_filter=True, mermaid_filter=False\n",
    "):\n",
    "    \"\"\"\n",
    "    Converts markdown files to html in specified directory\n",
    "\n",
    "    :param md_dir: the directory with *.md files\n",
    "    :param add_toc: whether to add a table of contents\n",
    "    :param convert_mermaid: whether to convert mermaid UML to images in the html\n",
    "    :return:\n",
    "    \"\"\"\n",
    "    md_files = glob.iglob(md_dir + \"**/[!README]*\" + MD_EXTENSION, recursive=True)\n",
    "\n",
    "    pandoc_filters = []\n",
    "    if sidenote_filter:\n",
    "        pandoc_filters.append(\"pandoc-sidenote\")\n",
    "    if mermaid_filter:\n",
    "        pandoc_filters.append(\"mermaid-filter\")\n",
    "\n",
    "    lua_filters = []\n",
    "    if spellcheck_filter:\n",
    "        lua_filters.append(\"\")\n",
    "\n",
    "    # See https://pandoc.org/MANUAL.html#options\n",
    "    pandoc_args = [\n",
    "        \"--katex\",\n",
    "        \"--section-divs\",\n",
    "        \"--css=../../src/styles/tufte.css\",\n",
    "        \"--css=../../src/styles/pandoc.css\",\n",
    "        \"--css=../../src/styles/pandoc-solarized.css\",\n",
    "        \"--css=../../src/styles/tufte-extra.css\",\n",
    "        \"--template=templates/tufte.html5\",\n",
    "        \"--extract-media=media\",\n",
    "        \"--lua-filter=/Users/rishi/lua-filters/wordcount/wordcount.lua\",\n",
    "    ]\n",
    "    if add_toc:\n",
    "        pandoc_args.append([\"--toc\", \"--variable\", \"toc-title:Table of Contents\"])\n",
    "\n",
    "    # See: https://pandoc.org/MANUAL.html#extensions\n",
    "    pandoc_format = (\n",
    "        \"markdown\"\n",
    "        + \"+smart\"\n",
    "        + \"+pandoc_title_block\"\n",
    "        + \"+fenced_divs\"\n",
    "        + \"+line_blocks\"\n",
    "        + \"+fenced_code_blocks\"\n",
    "        + \"+backtick_code_blocks\"\n",
    "        + \"+fenced_code_attributes\"\n",
    "        + \"+inline_code_attributes\"\n",
    "        + \"+link_attributes\"\n",
    "        + \"+startnum\"\n",
    "        + \"+fancy_lists\"\n",
    "        + \"+task_lists\"\n",
    "        + \"+definition_lists\"\n",
    "        + \"+example_lists\"\n",
    "        + \"+table_captions\"\n",
    "        + \"+simple_tables\"\n",
    "        + \"+multiline_tables\"\n",
    "        + \"+grid_tables\"\n",
    "        + \"+pipe_tables\"\n",
    "        + \"+emoji\"\n",
    "        + \"+intraword_underscores\"\n",
    "        + \"+strikeout\"\n",
    "        + \"+superscript\"\n",
    "        + \"+subscript\"\n",
    "        + \"+tex_math_dollars\"\n",
    "        + \"+implicit_figures\"\n",
    "        + \"+footnotes\"\n",
    "        + \"+inline_notes\"\n",
    "    )\n",
    "\n",
    "    for md_file in md_files:\n",
    "        html_file = md_file[: -len(MD_EXTENSION)] + HTML_EXTENSION\n",
    "        pypandoc.convert_file(\n",
    "            md_file,\n",
    "            extra_args=pandoc_args,\n",
    "            format=pandoc_format,\n",
    "            filters=pandoc_filters,\n",
    "            to=\"html5+smart\",\n",
    "            outputfile=html_file,\n",
    "        )"
   ]
  },
  {
   "cell_type": "code",
   "execution_count": null,
   "metadata": {
    "pycharm": {
     "name": "#%%\n"
    }
   },
   "outputs": [],
   "source": [
    "def spellcheck(md_dir=GLOB_MD_DIR):\n",
    "    \"\"\"\n",
    "    Spell checks all *.md files in given directory\n",
    "    :param md_dir: directory to search\n",
    "    \"\"\"\n",
    "    md_files = glob.iglob(md_dir + \"**/[!README]*\" + MD_EXTENSION, recursive=True)\n",
    "    for file in md_files:\n",
    "        print(f\"Spellchecking {file}...\")\n",
    "        !pandoc --lua-filter {SPELLCHECK_FILTER} {file}\n",
    "        print(\"\\n\")"
   ]
  },
  {
   "cell_type": "code",
   "execution_count": null,
   "metadata": {
    "pycharm": {
     "name": "#%%\n"
    }
   },
   "outputs": [],
   "source": [
    "def wordcount(md_dir=GLOB_MD_DIR):\n",
    "    \"\"\"\n",
    "    Prints word count for all *.md files in given directory\n",
    "    :param md_dir: directory to search\n",
    "    \"\"\"\n",
    "    md_files = glob.iglob(md_dir + \"**/[!README]*\" + MD_EXTENSION, recursive=True)\n",
    "    for file in md_files:\n",
    "        print(f\"Word count for {file}...\")\n",
    "        !pandoc --lua-filter {WORDCOUNT_FILTER} {file}\n",
    "        print(\"\\n\")"
   ]
  },
  {
   "cell_type": "code",
   "execution_count": null,
   "metadata": {
    "pycharm": {
     "name": "#%%\n"
    }
   },
   "outputs": [],
   "source": [
    "convert_md_to_html(\"../articles/citi-bike/\")"
   ]
  },
  {
   "cell_type": "code",
   "execution_count": null,
   "metadata": {
    "pycharm": {
     "name": "#%%\n"
    }
   },
   "outputs": [],
   "source": [
    "spellcheck()"
   ]
  },
  {
   "cell_type": "code",
   "execution_count": null,
   "metadata": {
    "pycharm": {
     "name": "#%%\n"
    }
   },
   "outputs": [],
   "source": [
    "wordcount()"
   ]
  },
  {
   "cell_type": "code",
   "execution_count": null,
   "metadata": {
    "pycharm": {
     "name": "#%%\n"
    }
   },
   "outputs": [],
   "source": [
    "!pandoc --lua-filter /Users/rishi/lua-filters/wordcount/wordcount.lua /Users/rishi/blogs/articles/citi-bike/citibike-trips.md"
   ]
  },
  {
   "cell_type": "code",
   "execution_count": null,
   "metadata": {
    "pycharm": {
     "name": "#%%\n"
    }
   },
   "outputs": [],
   "source": [
    "break"
   ]
  },
  {
   "cell_type": "code",
   "execution_count": null,
   "metadata": {},
   "outputs": [],
   "source": [
    "md_files = glob.iglob(GLOB_MD_DIR + \"**/[!README]*\" + MD_EXTENSION, recursive=True)"
   ]
  },
  {
   "cell_type": "code",
   "execution_count": null,
   "metadata": {
    "pycharm": {
     "name": "#%%\n"
    }
   },
   "outputs": [],
   "source": [
    "# debug\n",
    "if False:\n",
    "    for f in md_files:\n",
    "        print(f)"
   ]
  },
  {
   "cell_type": "code",
   "execution_count": null,
   "metadata": {},
   "outputs": [],
   "source": [
    "pandoc_filters = [\n",
    "    \"pandoc-sidenote\",\n",
    "    # \"mermaid-filter\"\n",
    "]\n",
    "\n",
    "# See https://pandoc.org/MANUAL.html#options\n",
    "pandoc_args = [\n",
    "    \"--katex\",\n",
    "    \"--section-divs\",\n",
    "    \"--toc\",\n",
    "    # \"--css=../../src/styles/pandoc.css\",\n",
    "    \"--css=../../src/styles/tufte.css\",\n",
    "    \"--css=../../src/styles/pandoc2.css\",\n",
    "    \"--css=../../src/styles/pandoc-solarized.css\",\n",
    "    \"--css=../../src/styles/tufte-extra.css\",\n",
    "    # \"--template=templates/pandoc-template.html\",\n",
    "    \"--template=templates/tufte.html5\",\n",
    "    \"--extract-media=media\",\n",
    "    \"--variable\",\n",
    "    \"toc-title:Table of Contents\",\n",
    "]\n",
    "\n",
    "# See: https://pandoc.org/MANUAL.html#extensions\n",
    "pandoc_format = (\n",
    "    \"markdown\"\n",
    "    + \"+smart\"\n",
    "    + \"+pandoc_title_block\"\n",
    "    + \"+fenced_divs\"\n",
    "    + \"+line_blocks\"\n",
    "    + \"+fenced_code_blocks\"\n",
    "    + \"+backtick_code_blocks\"\n",
    "    + \"+fenced_code_attributes\"\n",
    "    + \"+inline_code_attributes\"\n",
    "    + \"+link_attributes\"\n",
    "    + \"+startnum\"\n",
    "    + \"+fancy_lists\"\n",
    "    + \"+task_lists\"\n",
    "    + \"+definition_lists\"\n",
    "    + \"+example_lists\"\n",
    "    + \"+table_captions\"\n",
    "    + \"+simple_tables\"\n",
    "    + \"+multiline_tables\"\n",
    "    + \"+grid_tables\"\n",
    "    + \"+pipe_tables\"\n",
    "    + \"+emoji\"\n",
    "    + \"+intraword_underscores\"\n",
    "    + \"+strikeout\"\n",
    "    + \"+superscript\"\n",
    "    + \"+subscript\"\n",
    "    + \"+tex_math_dollars\"\n",
    "    + \"+implicit_figures\"\n",
    "    + \"+footnotes\"\n",
    "    + \"+inline_notes\"\n",
    ")"
   ]
  },
  {
   "cell_type": "code",
   "execution_count": null,
   "metadata": {},
   "outputs": [],
   "source": [
    "for md_file in md_files:\n",
    "    html_file = md_file[: -len(MD_EXTENSION)] + HTML_EXTENSION\n",
    "    pypandoc.convert_file(\n",
    "        md_file,\n",
    "        extra_args=pandoc_args,\n",
    "        format=pandoc_format,\n",
    "        filters=pandoc_filters,\n",
    "        to=\"html5+smart\",\n",
    "        outputfile=html_file,\n",
    "    )"
   ]
  },
  {
   "cell_type": "code",
   "execution_count": null,
   "metadata": {},
   "outputs": [],
   "source": [
    "# delete generated html files. for debugging\n",
    "if False:\n",
    "    for html_file in glob.iglob(\n",
    "        \"../**/[!pandoc-template]*\" + HTML_EXTENSION, recursive=True\n",
    "    ):\n",
    "        os.remove(html_file)"
   ]
  },
  {
   "cell_type": "code",
   "execution_count": null,
   "metadata": {},
   "outputs": [],
   "source": [
    "html_files = glob.iglob(\"../**/*\" + HTML_EXTENSION, recursive=True)"
   ]
  },
  {
   "cell_type": "code",
   "execution_count": null,
   "metadata": {
    "pycharm": {
     "name": "#%%\n"
    }
   },
   "outputs": [],
   "source": [
    "if False:\n",
    "    for f in html_files:\n",
    "        print(f)"
   ]
  },
  {
   "cell_type": "code",
   "execution_count": null,
   "metadata": {},
   "outputs": [],
   "source": [
    "for html_file in html_files:\n",
    "    pdf_file = html_file[: -len(HTML_EXTENSION)] + PDF_EXTENSION\n",
    "    pypandoc.convert_file(\n",
    "        html_file,\n",
    "        extra_args=[\n",
    "            \"--pdf-engine=xelatex\",\n",
    "            \"--variable\",\n",
    "            \"lang=en\",\n",
    "            \"--variable\",\n",
    "            \"toc-title:Table of Contents\",\n",
    "        ],\n",
    "        to=\"latex\",\n",
    "        outputfile=pdf_file,\n",
    "    )"
   ]
  },
  {
   "cell_type": "code",
   "execution_count": null,
   "metadata": {},
   "outputs": [],
   "source": []
  }
 ],
 "metadata": {
  "interpreter": {
   "hash": "31a7b1cb5f073f7a7d37b3db504c6954ce2b88e0f82e412b65ad0b5f2dd17394"
  },
  "kernelspec": {
   "display_name": "Python 3.10.2 ('python310')",
   "language": "python",
   "name": "python3"
  },
  "language_info": {
   "codemirror_mode": {
    "name": "ipython",
    "version": 3
   },
   "file_extension": ".py",
   "mimetype": "text/x-python",
   "name": "python",
   "nbconvert_exporter": "python",
   "pygments_lexer": "ipython3",
   "version": "3.10.2"
  }
 },
 "nbformat": 4,
 "nbformat_minor": 2
}
