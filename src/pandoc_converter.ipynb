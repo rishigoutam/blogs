{
 "cells": [
  {
   "cell_type": "code",
   "execution_count": null,
   "metadata": {},
   "outputs": [],
   "source": [
    "import glob\n",
    "import os\n",
    "\n",
    "import pypandoc\n",
    "import logging"
   ]
  },
  {
   "cell_type": "code",
   "execution_count": null,
   "metadata": {},
   "outputs": [],
   "source": [
    "MD_EXTENSION = \".md\"\n",
    "HTML_EXTENSION = \".html\"\n",
    "PDF_EXTENSION = \".pdf\"\n",
    "PROJECTS_DIR = \"../projects/\"\n",
    "ARTICLES_DIR = \"../articles/\"\n",
    "LUA_FILTERS_DIR = \"/Users/rishi/lua-filters/\"\n",
    "SPELLCHECK_FILTER = LUA_FILTERS_DIR + \"spellcheck/spellcheck.lua\"\n",
    "WORDCOUNT_FILTER = LUA_FILTERS_DIR + \"wordcount/wordcount.lua\"\n",
    "\n",
    "# Suppress pandoc logs\n",
    "# logging.getLogger('pypandoc').addHandler(logging.NullHandler())"
   ]
  },
  {
   "cell_type": "code",
   "execution_count": null,
   "metadata": {
    "pycharm": {
     "name": "#%%\n"
    }
   },
   "outputs": [],
   "source": [
    "def spellcheck(md_dir=ARTICLES_DIR):\n",
    "    \"\"\"\n",
    "    Prints spelling errors in all *.md files in given directory\n",
    "    :param md_dir: directory to search\n",
    "    \"\"\"\n",
    "    md_files = glob.iglob(md_dir + \"**/[!README]*\" + MD_EXTENSION, recursive=True)\n",
    "    for file in md_files:\n",
    "        print(f\"Spellchecking {file}...\")\n",
    "        spelling_errors = !pandoc --lua-filter {SPELLCHECK_FILTER} {file}\n",
    "        print(spelling_errors)\n",
    "        print(\"\\n\")"
   ]
  },
  {
   "cell_type": "code",
   "execution_count": null,
   "metadata": {
    "pycharm": {
     "name": "#%%\n"
    }
   },
   "outputs": [],
   "source": [
    "def wordcount(md_dir=ARTICLES_DIR):\n",
    "    \"\"\"\n",
    "    Prints word count for all *.md files in given directory\n",
    "    :param md_dir: directory to search\n",
    "    \"\"\"\n",
    "    md_files = glob.iglob(md_dir + \"**/[!README]*\" + MD_EXTENSION, recursive=True)\n",
    "    for file in md_files:\n",
    "        print(f\"Word count for {file}...\")\n",
    "        wc = !pandoc --lua-filter {WORDCOUNT_FILTER} {file}\n",
    "        print(wc)\n",
    "        print(\"\\n\")"
   ]
  },
  {
   "cell_type": "code",
   "execution_count": null,
   "metadata": {
    "pycharm": {
     "name": "#%%\n"
    }
   },
   "outputs": [],
   "source": [
    "def convert_md_to_html(\n",
    "    md_dir=ARTICLES_DIR,\n",
    "    add_toc=False,\n",
    "    sidenote_filter=True,\n",
    "    mermaid_filter=True,\n",
    "    plot_filter=True,\n",
    "    crossreference_filter=False,\n",
    "):\n",
    "    \"\"\"\n",
    "    Converts markdown files to html in specified directory\n",
    "\n",
    "    :param md_dir: the directory with *.md files\n",
    "    :param add_toc: whether to add a table of contents\n",
    "    :param sidenote_filter: use pandoc-sidenote to convert footnotes to sidenotes\n",
    "    :param mermaid_filter: use mermaid-filter to convert mermaid.js markdown to images\n",
    "    :param plot_filter: use pandoc-plot to convert plot code to images. only tested with matplotlib. script fails for plotly_python\n",
    "    :param crossreference_filter: use pandoc-crossref to allow referencing sections of the article elsewhere in the article\n",
    "    :return:\n",
    "    \"\"\"\n",
    "    md_files = glob.iglob(md_dir + \"**/[!README]*\" + MD_EXTENSION, recursive=True)\n",
    "\n",
    "    pandoc_filters = []\n",
    "\n",
    "    # Converts footnotes to sidenotes\n",
    "    if sidenote_filter:\n",
    "        pandoc_filters.append(\"pandoc-sidenote\")\n",
    "    if mermaid_filter:\n",
    "        pandoc_filters.append(\"mermaid-filter\")\n",
    "    # Usage: https://laurentrdc.github.io/pandoc-plot/MANUAL.html\n",
    "    if plot_filter:\n",
    "        pandoc_filters.append(\"pandoc-plot\")\n",
    "\n",
    "    # Usage: https://lierdakil.github.io/pandoc-crossref/\n",
    "    # consider using https://github.com/tomduck/pandoc-xnos instead of pandoc-crossref\n",
    "    if crossreference_filter:\n",
    "        pandoc_filters.append(\"pandoc-crossref\")\n",
    "\n",
    "    # wordcount and spellcheck are done outside this function\n",
    "    # consider adding https://github.com/pandoc/lua-filters/tree/master/diagram-generator\n",
    "    lua_filters = [\n",
    "        \"--lua-filter\",\n",
    "        LUA_FILTERS_DIR + \"include-code-files/include-code-files.lua\",\n",
    "        \"--lua-filter\",\n",
    "        LUA_FILTERS_DIR + \"include-files/include-files.lua\",\n",
    "    ]\n",
    "\n",
    "    # See https://pandoc.org/MANUAL.html#options\n",
    "    pandoc_args = [\n",
    "        \"--katex\",\n",
    "        \"--section-divs\",\n",
    "        \"--css=../../src/styles/tufte.css\",\n",
    "        \"--css=../../src/styles/pandoc.css\",\n",
    "        \"--css=../../src/styles/pandoc-solarized.css\",\n",
    "        \"--css=../../src/styles/tufte-extra.css\",\n",
    "        \"--template=../../src/templates/tufte.html5\",\n",
    "        \"--extract-media=media\",\n",
    "    ]\n",
    "    if add_toc:\n",
    "        pandoc_args.append([\"--toc\", \"--variable\", \"toc-title:Table of Contents\"])\n",
    "\n",
    "    pandoc_args += lua_filters\n",
    "\n",
    "    # See: https://pandoc.org/MANUAL.html#extensions\n",
    "    pandoc_format = (\n",
    "        \"markdown\"\n",
    "        + \"+smart\"\n",
    "        + \"+pandoc_title_block\"\n",
    "        + \"+fenced_divs\"\n",
    "        + \"+line_blocks\"\n",
    "        + \"+fenced_code_blocks\"\n",
    "        + \"+backtick_code_blocks\"\n",
    "        + \"+fenced_code_attributes\"\n",
    "        + \"+inline_code_attributes\"\n",
    "        + \"+link_attributes\"\n",
    "        + \"+startnum\"\n",
    "        + \"+fancy_lists\"\n",
    "        + \"+task_lists\"\n",
    "        + \"+definition_lists\"\n",
    "        + \"+example_lists\"\n",
    "        + \"+table_captions\"\n",
    "        + \"+simple_tables\"\n",
    "        + \"+multiline_tables\"\n",
    "        + \"+grid_tables\"\n",
    "        + \"+pipe_tables\"\n",
    "        + \"+emoji\"\n",
    "        + \"+intraword_underscores\"\n",
    "        + \"+strikeout\"\n",
    "        + \"+superscript\"\n",
    "        + \"+subscript\"\n",
    "        + \"+tex_math_dollars\"\n",
    "        + \"+implicit_figures\"\n",
    "        + \"+footnotes\"\n",
    "        + \"+inline_notes\"\n",
    "    )\n",
    "\n",
    "    cwd = os.getcwd()\n",
    "    for md_file in md_files:\n",
    "        html_file = os.path.basename(md_file[: -len(MD_EXTENSION)] + HTML_EXTENSION)\n",
    "\n",
    "        os.chdir(os.path.dirname(md_file))\n",
    "\n",
    "        pypandoc.convert_file(\n",
    "            \"./\" + os.path.basename(md_file),\n",
    "            extra_args=pandoc_args,\n",
    "            format=pandoc_format,\n",
    "            filters=pandoc_filters,\n",
    "            to=\"html5+smart\",\n",
    "            outputfile=html_file,\n",
    "        )\n",
    "\n",
    "        # remove useless mermaid-filter.err files\n",
    "        if os.path.exists(\"mermaid-filter.err\"):\n",
    "            os.remove(\"mermaid-filter.err\")\n",
    "\n",
    "        # change back to original directory for next loop\n",
    "        os.chdir(cwd)"
   ]
  },
  {
   "cell_type": "code",
   "execution_count": null,
   "metadata": {
    "pycharm": {
     "name": "#%%\n"
    }
   },
   "outputs": [],
   "source": [
    "convert_md_to_html(md_dir=ARTICLES_DIR)\n",
    "convert_md_to_html(md_dir=PROJECTS_DIR)"
   ]
  },
  {
   "cell_type": "code",
   "execution_count": null,
   "metadata": {
    "pycharm": {
     "name": "#%%\n"
    }
   },
   "outputs": [],
   "source": [
    "spellcheck(ARTICLES_DIR)\n",
    "spellcheck(PROJECTS_DIR)"
   ]
  },
  {
   "cell_type": "code",
   "execution_count": null,
   "metadata": {
    "pycharm": {
     "name": "#%%\n"
    }
   },
   "outputs": [],
   "source": [
    "wordcount(ARTICLES_DIR)\n",
    "wordcount(PROJECTS_DIR)"
   ]
  },
  {
   "cell_type": "code",
   "execution_count": null,
   "metadata": {
    "pycharm": {
     "name": "#%%\n"
    }
   },
   "outputs": [],
   "source": [
    "def convert_md_to_pdf(md_dir=ARTICLES_DIR):\n",
    "    \"\"\"\n",
    "    Converts md files to PDF in a given directory.\n",
    "    TODO: Does not handle emojis\n",
    "    TODO: Does not handle pandoc-plot images\n",
    "\n",
    "    :param md_dir: the directory where html files reside\n",
    "    :return:\n",
    "    \"\"\"\n",
    "    pandoc_args = [\n",
    "        \"--katex\",\n",
    "        \"--section-divs\",\n",
    "        \"--extract-media=media-pdf\",\n",
    "        \"--pdf-engine=xelatex\",\n",
    "        \"--variable\",\n",
    "        \"lang=en\",\n",
    "        \"--toc\",\n",
    "        \"--variable\",\n",
    "        \"toc-title:Table of Contents\",\n",
    "        # \"--variable\",\n",
    "        # \"mainfont='DejaVu Sans'\",\n",
    "    ]\n",
    "\n",
    "    pandoc_format = (\n",
    "        \"markdown\"\n",
    "        + \"+smart\"\n",
    "        + \"+pandoc_title_block\"\n",
    "        + \"+fenced_divs\"\n",
    "        + \"+line_blocks\"\n",
    "        + \"+fenced_code_blocks\"\n",
    "        + \"+backtick_code_blocks\"\n",
    "        + \"+fenced_code_attributes\"\n",
    "        + \"+inline_code_attributes\"\n",
    "        + \"+link_attributes\"\n",
    "        + \"+startnum\"\n",
    "        + \"+fancy_lists\"\n",
    "        + \"+task_lists\"\n",
    "        + \"+definition_lists\"\n",
    "        + \"+example_lists\"\n",
    "        + \"+table_captions\"\n",
    "        + \"+simple_tables\"\n",
    "        + \"+multiline_tables\"\n",
    "        + \"+grid_tables\"\n",
    "        + \"+pipe_tables\"\n",
    "        + \"+emoji\"\n",
    "        + \"+intraword_underscores\"\n",
    "        + \"+strikeout\"\n",
    "        + \"+superscript\"\n",
    "        + \"+subscript\"\n",
    "        + \"+tex_math_dollars\"\n",
    "        + \"+implicit_figures\"\n",
    "        + \"+footnotes\"\n",
    "        + \"+inline_notes\"\n",
    "    )\n",
    "\n",
    "    md_files = glob.iglob(md_dir + \"/**/*\" + MD_EXTENSION, recursive=True)\n",
    "\n",
    "    for md_file in md_files:\n",
    "        pdf_file = md_file[: -len(MD_EXTENSION)] + PDF_EXTENSION\n",
    "        pypandoc.convert_file(\n",
    "            md_file,\n",
    "            extra_args=pandoc_args,\n",
    "            format=pandoc_format,\n",
    "            to=\"latex+smart\",\n",
    "            outputfile=pdf_file,\n",
    "        )"
   ]
  },
  {
   "cell_type": "code",
   "execution_count": null,
   "metadata": {
    "pycharm": {
     "name": "#%%\n"
    }
   },
   "outputs": [],
   "source": [
    "convert_md_to_pdf(ARTICLES_DIR + \"test/\")\n",
    "convert_md_to_pdf(PROJECTS_DIR + \"citibike/\")"
   ]
  },
  {
   "cell_type": "code",
   "execution_count": null,
   "metadata": {
    "pycharm": {
     "name": "#%%\n"
    }
   },
   "outputs": [],
   "source": []
  }
 ],
 "metadata": {
  "interpreter": {
   "hash": "31a7b1cb5f073f7a7d37b3db504c6954ce2b88e0f82e412b65ad0b5f2dd17394"
  },
  "kernelspec": {
   "display_name": "Python 3.10.2 ('python310')",
   "language": "python",
   "name": "python3"
  },
  "language_info": {
   "codemirror_mode": {
    "name": "ipython",
    "version": 3
   },
   "file_extension": ".py",
   "mimetype": "text/x-python",
   "name": "python",
   "nbconvert_exporter": "python",
   "pygments_lexer": "ipython3",
   "version": "3.10.2"
  }
 },
 "nbformat": 4,
 "nbformat_minor": 2
}
